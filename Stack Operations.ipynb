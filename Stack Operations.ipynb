{
 "cells": [
  {
   "cell_type": "markdown",
   "metadata": {},
   "source": [
    "WAP to implement basic Stack operations."
   ]
  },
  {
   "cell_type": "code",
   "execution_count": null,
   "metadata": {},
   "outputs": [],
   "source": [
    "class stack:\n",
    "    def __init__(self):\n",
    "        self.a=[]\n",
    "    def push(self,item):\n",
    "        self.a.append(item)\n",
    "    def pop(self):\n",
    "        self.a.pop()\n",
    "    def size(self):\n",
    "        return len(self.a)\n",
    "    def isempty(self):\n",
    "        return len(self.a)==0\n",
    "obj=stack()\n",
    "n=int(input(\"Enter no. of items to be inserted into Stack==> \"))\n",
    "while(n):\n",
    "    obj.push(int(input(\"Enter content\")))\n",
    "    n=n-1\n",
    "print(\"STACK CREATED..!\")\n",
    "print()\n",
    "ch=input(\"Press 'p' to pop\")\n",
    "while ch=='p':\n",
    "    obj.pop()\n",
    "    ch=input(\"Press 'p' to pop\")\n",
    "\n",
    "for i in obj.a:\n",
    "    print(i)\n"
   ]
  },
  {
   "cell_type": "code",
   "execution_count": null,
   "metadata": {},
   "outputs": [],
   "source": []
  },
  {
   "cell_type": "code",
   "execution_count": null,
   "metadata": {},
   "outputs": [],
   "source": []
  }
 ],
 "metadata": {
  "kernelspec": {
   "display_name": "Python 3",
   "language": "python",
   "name": "python3"
  },
  "language_info": {
   "codemirror_mode": {
    "name": "ipython",
    "version": 3
   },
   "file_extension": ".py",
   "mimetype": "text/x-python",
   "name": "python",
   "nbconvert_exporter": "python",
   "pygments_lexer": "ipython3",
   "version": "3.6.7"
  }
 },
 "nbformat": 4,
 "nbformat_minor": 2
}
