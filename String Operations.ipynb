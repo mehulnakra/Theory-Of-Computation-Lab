{
 "cells": [
  {
   "cell_type": "markdown",
   "metadata": {},
   "source": [
    "\n",
    "WAP to accept a sentence and count the no of vowels, special symbols and spaces"
   ]
  },
  {
   "cell_type": "code",
   "execution_count": 1,
   "metadata": {},
   "outputs": [
    {
     "name": "stdout",
     "output_type": "stream",
     "text": [
      "I Love Python\n",
      "no of vowels: 4\n",
      "no of spcl char: 0\n",
      "no of spaces: 2\n",
      "no of words: 3\n"
     ]
    }
   ],
   "source": [
    "_str = input()\n",
    "vow=0\n",
    "sym=0\n",
    "spc=0\n",
    "_str=_str.lower()\n",
    "arr1 = ['a','e','i','o','u']\n",
    "arr2 = ['!','@','$','%','^','&','*','(',')']\n",
    "arr3 = ' '\n",
    "for i in _str:\n",
    "    if (i in arr1):\n",
    "        vow=vow+1\n",
    "    elif (i in arr2):\n",
    "        sym=sym+1\n",
    "    elif (i == arr3):\n",
    "        spc=spc+1\n",
    "wrd=_str.split()\n",
    "        \n",
    "print(\"no of vowels: \" +str(vow))\n",
    "print(\"no of spcl char: \" +str(sym))\n",
    "print(\"no of spaces: \" +str(spc))\n",
    "print(\"no of words: \" +str(len(wrd)))"
   ]
  },
  {
   "cell_type": "markdown",
   "metadata": {},
   "source": [
    "WAP to read a file and count the no of words."
   ]
  },
  {
   "cell_type": "code",
   "execution_count": null,
   "metadata": {},
   "outputs": [],
   "source": [
    "wrd = 0\n",
    "temp = 0\n",
    "filename = (\"PLAN.txt\")\n",
    "with open(filename) as file:\n",
    "    for line in file:\n",
    "        temp=0\n",
    "        l = line.split()\n",
    "        temp = len(l)\n",
    "        wrd= wrd+temp\n",
    "print(\"Number of words: \" + str(wrd))"
   ]
  },
  {
   "cell_type": "markdown",
   "metadata": {},
   "source": [
    "Number of words: 267"
   ]
  },
  {
   "cell_type": "markdown",
   "metadata": {},
   "source": [
    "WAP to accept a string coantaining multiple 'is' and replace 'is' with 'was'"
   ]
  },
  {
   "cell_type": "code",
   "execution_count": 4,
   "metadata": {},
   "outputs": [
    {
     "name": "stdout",
     "output_type": "stream",
     "text": [
      "this is isabella's watch\n",
      "this was isabella's watch\n"
     ]
    }
   ],
   "source": [
    "_str = input()\n",
    "_str = _str.replace(\" is \",\" was \")\n",
    "print(_str)"
   ]
  }
 ],
 "metadata": {
  "kernelspec": {
   "display_name": "Python 3",
   "language": "python",
   "name": "python3"
  },
  "language_info": {
   "codemirror_mode": {
    "name": "ipython",
    "version": 3
   },
   "file_extension": ".py",
   "mimetype": "text/x-python",
   "name": "python",
   "nbconvert_exporter": "python",
   "pygments_lexer": "ipython3",
   "version": "3.6.7"
  }
 },
 "nbformat": 4,
 "nbformat_minor": 2
}
