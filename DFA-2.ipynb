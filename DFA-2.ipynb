{
 "cells": [
  {
   "cell_type": "markdown",
   "metadata": {},
   "source": [
    "DFA string containing 3 consecutive 1's as substring"
   ]
  },
  {
   "cell_type": "code",
   "execution_count": 1,
   "metadata": {},
   "outputs": [
    {
     "name": "stdout",
     "output_type": "stream",
     "text": [
      "3\n",
      "10111\n",
      "STRING ACCEPTED\n",
      "1010\n",
      "STRING IS NOT ACCEPTABLE..!\n",
      "111000\n",
      "STRING ACCEPTED\n"
     ]
    }
   ],
   "source": [
    "d={'a':{'0':'a','1':'b'},'b':{'0':'a','1':'c'},'c':{'0':'a','1':'d'},'d':{'0':'d','1':'d'}}\n",
    "n=int(input())\n",
    "while(n):\n",
    "\n",
    "  _str=input()\n",
    "  state='a'\n",
    "  for i in _str:\n",
    "    state=d[state][i]\n",
    "  if state=='d':\n",
    "    print(\"STRING ACCEPTED\")\n",
    "  else:\n",
    "    print(\"STRING IS NOT ACCEPTABLE..!\")\n",
    "  n=n-1\n",
    "  \n"
   ]
  },
  {
   "cell_type": "markdown",
   "metadata": {},
   "source": [
    "Program for mod 3 machine"
   ]
  },
  {
   "cell_type": "code",
   "execution_count": 2,
   "metadata": {},
   "outputs": [
    {
     "name": "stdout",
     "output_type": "stream",
     "text": [
      "3\n",
      "1110\n",
      "STRING IS NOT ACCEPTABLE..!\n",
      "100\n",
      "STRING ACCEPTED\n",
      "111000111\n",
      "STRING ACCEPTED\n"
     ]
    }
   ],
   "source": [
    "d={'a':{'0':'b','1':'b'},'b':{'0':'c','1':'c'},'c':{'0':'a','1':'a'}}\n",
    "n=int(input())\n",
    "while(n):\n",
    "\n",
    "  _str=input()\n",
    "  state='a'\n",
    "  for i in _str:\n",
    "    state=d[state][i]\n",
    "  if state=='a':\n",
    "    print(\"STRING ACCEPTED\")\n",
    "  else:\n",
    "    print(\"STRING IS NOT ACCEPTABLE..!\")\n",
    "  n=n-1\n"
   ]
  },
  {
   "cell_type": "markdown",
   "metadata": {},
   "source": [
    "Program for string ending with '101'"
   ]
  },
  {
   "cell_type": "code",
   "execution_count": 3,
   "metadata": {},
   "outputs": [
    {
     "name": "stdout",
     "output_type": "stream",
     "text": [
      "3\n",
      "Enter a string : 1110\n",
      "String not accepted \n",
      "Enter a string : 11101\n",
      " String accepted \n",
      "Enter a string : 0010110\n",
      "String not accepted \n"
     ]
    }
   ],
   "source": [
    "d=dict()\n",
    "d[(0,'0')]=0\n",
    "d[(0,'1')]=1\n",
    "d[(1,'0')]=2\n",
    "d[(1,'1')]=1\n",
    "d[(2,'0')]=0\n",
    "d[(2,'1')]=3\n",
    "d[(3,'0')]=0\n",
    "d[(3,'1')]=0\n",
    "n=int(input())\n",
    "while(n):\n",
    "    fs=3\n",
    "    c=0\n",
    "    s=input(\"Enter a string : \")\n",
    "    for i in s:\n",
    "        if i=='0':\n",
    "            c=d[c,i]\n",
    "        elif i=='1':\n",
    "            c=d[c,i]\n",
    "    if c==fs:\n",
    "        print(\" String accepted \")\n",
    "    else:\n",
    "        print(\"String not accepted \")\n",
    "    n=n-1"
   ]
  },
  {
   "cell_type": "code",
   "execution_count": null,
   "metadata": {},
   "outputs": [],
   "source": []
  }
 ],
 "metadata": {
  "kernelspec": {
   "display_name": "Python 3",
   "language": "python",
   "name": "python3"
  },
  "language_info": {
   "codemirror_mode": {
    "name": "ipython",
    "version": 3
   },
   "file_extension": ".py",
   "mimetype": "text/x-python",
   "name": "python",
   "nbconvert_exporter": "python",
   "pygments_lexer": "ipython3",
   "version": "3.6.7"
  }
 },
 "nbformat": 4,
 "nbformat_minor": 2
}
