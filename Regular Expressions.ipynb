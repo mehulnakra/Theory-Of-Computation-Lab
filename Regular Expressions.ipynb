{
 "cells": [
  {
   "cell_type": "markdown",
   "metadata": {},
   "source": [
    "# REGULAR EXPRESSONS"
   ]
  },
  {
   "cell_type": "markdown",
   "metadata": {},
   "source": [
    "Language ending with two zeros"
   ]
  },
  {
   "cell_type": "code",
   "execution_count": 1,
   "metadata": {},
   "outputs": [
    {
     "name": "stdout",
     "output_type": "stream",
     "text": [
      "String valid\n"
     ]
    }
   ],
   "source": [
    "import re\n",
    "str=\"001100\"\n",
    "x=re.search(\"[0-1]*00$\",str)\n",
    "if(x):\n",
    "    print(\"String valid\")\n",
    "else:\n",
    "    print(\"String invalid\")"
   ]
  },
  {
   "cell_type": "markdown",
   "metadata": {},
   "source": [
    "Language containing 'a' at third last position"
   ]
  },
  {
   "cell_type": "code",
   "execution_count": 2,
   "metadata": {},
   "outputs": [
    {
     "name": "stdout",
     "output_type": "stream",
     "text": [
      "String valid\n"
     ]
    }
   ],
   "source": [
    "import re\n",
    "str=\"babb\"\n",
    "x=re.search(\"[a-b]*a[a-b][a-b]\",str)\n",
    "if(x):\n",
    "    print(\"String valid\")\n",
    "else:\n",
    "    print(\"String invalid\")"
   ]
  },
  {
   "cell_type": "markdown",
   "metadata": {},
   "source": [
    "Language conatining atleast one 'a'"
   ]
  },
  {
   "cell_type": "code",
   "execution_count": 3,
   "metadata": {},
   "outputs": [
    {
     "name": "stdout",
     "output_type": "stream",
     "text": [
      "String valid\n"
     ]
    }
   ],
   "source": [
    "\n",
    "import re\n",
    "str=\"babb\"\n",
    "x=re.search(\"[a-b]*a[a-b]*\",str)\n",
    "if(x):\n",
    "    print(\"String valid\")\n",
    "else:\n",
    "    print(\"String invalid\")"
   ]
  },
  {
   "cell_type": "markdown",
   "metadata": {},
   "source": [
    "Language containing substring 'aba'would be accepted"
   ]
  },
  {
   "cell_type": "code",
   "execution_count": 4,
   "metadata": {},
   "outputs": [
    {
     "name": "stdout",
     "output_type": "stream",
     "text": [
      " valid \n"
     ]
    }
   ],
   "source": [
    "\n",
    "import re\n",
    "str=\"babaaba\"\n",
    "x=re.search(\"[a-b]*aba[a-b]*\",str)\n",
    "if(x):\n",
    "    print(\" valid \")\n",
    "else:\n",
    "    print(\" invalid \")"
   ]
  },
  {
   "cell_type": "markdown",
   "metadata": {},
   "source": [
    "Language accepting exactly two b's."
   ]
  },
  {
   "cell_type": "code",
   "execution_count": 8,
   "metadata": {},
   "outputs": [
    {
     "name": "stdout",
     "output_type": "stream",
     "text": [
      "String valid\n"
     ]
    }
   ],
   "source": [
    "import re\n",
    "str=\"ababaaa\"\n",
    "x=re.search(\"a*ba*ba*\",str)\n",
    "if(x):\n",
    "    print(\"String valid\")\n",
    "else:\n",
    "    print(\"String invalid\")"
   ]
  },
  {
   "cell_type": "markdown",
   "metadata": {},
   "source": [
    "Language accepting 1 at starting and 0 at end or viceversa"
   ]
  },
  {
   "cell_type": "code",
   "execution_count": 6,
   "metadata": {},
   "outputs": [
    {
     "name": "stdout",
     "output_type": "stream",
     "text": [
      "Invalid String\n"
     ]
    }
   ],
   "source": [
    "import re\n",
    "str=\"000\"\n",
    "x=re.search(\"^1[0-1]*0$|^0[0-1]*1$\",str)\n",
    "if(x):\n",
    "    print(\"Valid String\")\n",
    "else:\n",
    "    print(\"Invalid String\")\n"
   ]
  },
  {
   "cell_type": "markdown",
   "metadata": {},
   "source": [
    "Language accepting even no of a's and b's."
   ]
  },
  {
   "cell_type": "code",
   "execution_count": 7,
   "metadata": {},
   "outputs": [
    {
     "name": "stdout",
     "output_type": "stream",
     "text": [
      "Even\n"
     ]
    }
   ],
   "source": [
    "import re\n",
    "str=\"abab\"\n",
    "x=len(re.findall(\"a\",str))%2\n",
    "y=len(re.findall(\"b\",str))%2\n",
    "if(x==0 and y==0):\n",
    "    print(\"Even\")\n",
    "else:\n",
    "    print(\"Odd\")"
   ]
  },
  {
   "cell_type": "markdown",
   "metadata": {},
   "source": [
    "Language starting with 'ab'."
   ]
  },
  {
   "cell_type": "code",
   "execution_count": 10,
   "metadata": {},
   "outputs": [
    {
     "name": "stdout",
     "output_type": "stream",
     "text": [
      "Valid\n"
     ]
    }
   ],
   "source": [
    "import re\n",
    "str='abbbbbaa'\n",
    "x=re.search(\"^ab[a-b]*\",str)\n",
    "if(x):\n",
    "    print(\"Valid\")\n",
    "else:\n",
    "    print(\"Invalid\")"
   ]
  },
  {
   "cell_type": "code",
   "execution_count": null,
   "metadata": {},
   "outputs": [],
   "source": []
  }
 ],
 "metadata": {
  "kernelspec": {
   "display_name": "Python 3",
   "language": "python",
   "name": "python3"
  },
  "language_info": {
   "codemirror_mode": {
    "name": "ipython",
    "version": 3
   },
   "file_extension": ".py",
   "mimetype": "text/x-python",
   "name": "python",
   "nbconvert_exporter": "python",
   "pygments_lexer": "ipython3",
   "version": "3.6.7"
  }
 },
 "nbformat": 4,
 "nbformat_minor": 2
}
