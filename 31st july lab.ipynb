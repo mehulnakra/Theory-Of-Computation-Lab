{
 "cells": [
  {
   "cell_type": "markdown",
   "metadata": {},
   "source": [
    "String containing even or odd no. of 1's"
   ]
  },
  {
   "cell_type": "code",
   "execution_count": 2,
   "metadata": {},
   "outputs": [
    {
     "name": "stdout",
     "output_type": "stream",
     "text": [
      "11101\n",
      "RESULT= even\n"
     ]
    }
   ],
   "source": [
    "d={'a':{'0':'even','1':'odd'},'b':{'0':'odd','1':'even'}}\n",
    "_str=input()\n",
    "st='a'\n",
    "for i in _str:\n",
    "  o=d[st][i]\n",
    "  if o=='odd':\n",
    "    st='b'\n",
    "  else:\n",
    "    st='a'\n",
    "print(f\"RESULT= {o}\")"
   ]
  },
  {
   "cell_type": "markdown",
   "metadata": {},
   "source": [
    "Binary addition of 1"
   ]
  },
  {
   "cell_type": "code",
   "execution_count": null,
   "metadata": {},
   "outputs": [
    {
     "name": "stdout",
     "output_type": "stream",
     "text": [
      "4\n",
      "101\n",
      "RESULT= 110\n",
      "1100\n",
      "RESULT= 1101\n",
      "0010\n",
      "RESULT= 0011\n",
      "1101110\n",
      "RESULT= 1101111\n"
     ]
    }
   ],
   "source": [
    "d={'a':{'1':'0','0':'1'},'b':{'0':'0','1':'1'}}\n",
    "def reverse(string): \n",
    "    string = string[::-1] \n",
    "    return string\n",
    "n=int(input())\n",
    "while(n):\n",
    "    _str=input()\n",
    "    _str=reverse(_str)\n",
    "    o=''\n",
    "    st='a'\n",
    "    for i in _str:\n",
    "        o=o+d[st][i]\n",
    "        if o[-1]=='1':\n",
    "          st='b'\n",
    "    print(f\"RESULT= {reverse(o)}\")\n"
   ]
  },
  {
   "cell_type": "code",
   "execution_count": null,
   "metadata": {},
   "outputs": [],
   "source": []
  }
 ],
 "metadata": {
  "kernelspec": {
   "display_name": "Python 3",
   "language": "python",
   "name": "python3"
  },
  "language_info": {
   "codemirror_mode": {
    "name": "ipython",
    "version": 3
   },
   "file_extension": ".py",
   "mimetype": "text/x-python",
   "name": "python",
   "nbconvert_exporter": "python",
   "pygments_lexer": "ipython3",
   "version": "3.6.7"
  }
 },
 "nbformat": 4,
 "nbformat_minor": 2
}
