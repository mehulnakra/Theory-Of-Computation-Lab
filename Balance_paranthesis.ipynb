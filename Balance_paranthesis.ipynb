{
 "cells": [
  {
   "cell_type": "markdown",
   "metadata": {},
   "source": [
    "\n",
    "WAP to show balance parenthesis using stack"
   ]
  },
  {
   "cell_type": "code",
   "execution_count": 5,
   "metadata": {},
   "outputs": [
    {
     "name": "stdout",
     "output_type": "stream",
     "text": [
      "Enter string: (()\n",
      "[]\n",
      "['(']\n",
      "['(', '(']\n",
      "NO\n"
     ]
    }
   ],
   "source": [
    "class Stack:\n",
    "    def __init__(self):\n",
    "        self.a=[]\n",
    "    def push(self,i):\n",
    "        self.a.append(i)\n",
    "        print(self.a)\n",
    "    def pop(self):\n",
    "        self.a.pop()\n",
    "    def size(self):    \n",
    "        return len(self.a)\n",
    "    def isempty(self):\n",
    "        return len(self.a)==0\n",
    "    def BalanceParenthesis(self):\n",
    "        a = Stack()\n",
    "        b = input(\"Enter string: \")\n",
    "        print(self.a)\n",
    "        for i in b:\n",
    "            if (i=='('):\n",
    "                self.push(i)\n",
    "            elif(i==')'):\n",
    "                self.pop()\n",
    "        if (len(self.a)==0):\n",
    "            print(\"YES\")\n",
    "        else:\n",
    "            print(\"NO\")           \n",
    "s=Stack()\n",
    "s.BalanceParenthesis()"
   ]
  },
  {
   "cell_type": "code",
   "execution_count": null,
   "metadata": {},
   "outputs": [],
   "source": []
  }
 ],
 "metadata": {
  "kernelspec": {
   "display_name": "Python 3",
   "language": "python",
   "name": "python3"
  },
  "language_info": {
   "codemirror_mode": {
    "name": "ipython",
    "version": 3
   },
   "file_extension": ".py",
   "mimetype": "text/x-python",
   "name": "python",
   "nbconvert_exporter": "python",
   "pygments_lexer": "ipython3",
   "version": "3.6.7"
  }
 },
 "nbformat": 4,
 "nbformat_minor": 2
}
