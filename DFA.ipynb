{
 "cells": [
  {
   "cell_type": "markdown",
   "metadata": {},
   "source": [
    "Program to implement DFA(Lang: String starting with 'a')"
   ]
  },
  {
   "cell_type": "code",
   "execution_count": 1,
   "metadata": {},
   "outputs": [
    {
     "name": "stdout",
     "output_type": "stream",
     "text": [
      "Enter a string==> aabab\n",
      "STATE TRANSITION : \n",
      "\n",
      "0 --> 1\n",
      "1 --> 1\n",
      "1 --> 1\n",
      "1 --> 1\n",
      "1 --> 1\n"
     ]
    }
   ],
   "source": [
    "#dictionary for machine accepting strings starting with 'a'\n",
    "dfa={0:{'a':1,'b':2},1:{'a':1,'b':1},2:{'a':2,'b':2}}\n",
    "_str=input(\"Enter a string==> \")\n",
    "c=1\n",
    "for i in _str:\n",
    "    if (_str.count('a')+_str.count('b')!=len(_str)):\n",
    "        print(\"INVALID STRING..!!\")\n",
    "        c=0\n",
    "        break\n",
    "   \n",
    "if(c==1):        \n",
    "    print(\"STATE TRANSITION : \")\n",
    "    print()\n",
    "    st=0\n",
    "    for i in _str:\n",
    "        print(str(st)+\" --> \"+str(dfa[st][i]))\n",
    "        st=dfa[st][i]\n",
    "\n",
    "\n",
    "    \n",
    "    \n"
   ]
  },
  {
   "cell_type": "code",
   "execution_count": null,
   "metadata": {},
   "outputs": [],
   "source": []
  }
 ],
 "metadata": {
  "kernelspec": {
   "display_name": "Python 3",
   "language": "python",
   "name": "python3"
  },
  "language_info": {
   "codemirror_mode": {
    "name": "ipython",
    "version": 3
   },
   "file_extension": ".py",
   "mimetype": "text/x-python",
   "name": "python",
   "nbconvert_exporter": "python",
   "pygments_lexer": "ipython3",
   "version": "3.6.7"
  }
 },
 "nbformat": 4,
 "nbformat_minor": 2
}
