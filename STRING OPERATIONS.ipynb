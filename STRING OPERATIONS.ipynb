{
 "cells": [
  {
   "cell_type": "markdown",
   "metadata": {},
   "source": [
    "WAP to accept a sentence and count the no of vowels, special symbols and spaces."
   ]
  },
  {
   "cell_type": "code",
   "execution_count": null,
   "metadata": {},
   "outputs": [],
   "source": [
    "_str = input()\n",
    "vow,spc,sym=0\n",
    "_str=_str.lower()\n",
    "arr1 = ['a','e','i','o','u']\n",
    "arr2 = ['!','@','$','%','^','&','*','(',')']\n",
    "arr3 = ' '\n",
    "for i in _str:\n",
    "    if (i in arr1):\n",
    "       vow=vow+1\n",
    "    elif (i in arr2):\n",
    "        sym=sym+1\n",
    "    elif (i == arr3):\n",
    "        spc=pc+1\n",
    "wrd =_str.split()\n",
    "        \n",
    "print(\"vowels count:    \"+str(vow))\n",
    "print(\"spcl char count: \"+str(sym))\n",
    "print(\"spaces count:    \"+str(spc))\n",
    "print(\"wordsc count:    \"+len(wrd))"
   ]
  },
  {
   "cell_type": "markdown",
   "metadata": {},
   "source": [
    "WAP to read a file and count the no of words.\n"
   ]
  },
  {
   "cell_type": "markdown",
   "metadata": {},
   "source": []
  },
  {
   "cell_type": "code",
   "execution_count": null,
   "metadata": {},
   "outputs": [],
   "source": [
    "WAP to accept a string coantaining multiple 'is' and replace 'is' with 'was'"
   ]
  },
  {
   "cell_type": "code",
   "execution_count": null,
   "metadata": {},
   "outputs": [],
   "source": []
  }
 ],
 "metadata": {
  "kernelspec": {
   "display_name": "Python 3",
   "language": "python",
   "name": "python3"
  },
  "language_info": {
   "codemirror_mode": {
    "name": "ipython",
    "version": 3
   },
   "file_extension": ".py",
   "mimetype": "text/x-python",
   "name": "python",
   "nbconvert_exporter": "python",
   "pygments_lexer": "ipython3",
   "version": "3.7.3"
  }
 },
 "nbformat": 4,
 "nbformat_minor": 4
}
