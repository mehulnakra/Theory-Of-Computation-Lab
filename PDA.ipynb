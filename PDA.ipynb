{
 "cells": [
  {
   "cell_type": "markdown",
   "metadata": {},
   "source": [
    "# PDA"
   ]
  },
  {
   "cell_type": "markdown",
   "metadata": {},
   "source": [
    "PDA for accepting a^n.b^n"
   ]
  },
  {
   "cell_type": "code",
   "execution_count": null,
   "metadata": {},
   "outputs": [
    {
     "name": "stdout",
     "output_type": "stream",
     "text": [
      "Test cases : 3\n",
      "ENTER STRING( a^n.b^n ==> aabb\n",
      "STRING ACCEPTED..!!\n",
      "ENTER STRING( a^n.b^n ==> aabbb\n",
      "INVALID STRING!!!!!!\n",
      "ENTER STRING( a^n.b^n ==> aaab\n",
      "INVALID STRING!!!!!!\n"
     ]
    }
   ],
   "source": [
    "class stack:\n",
    "    def __init__(self):\n",
    "        self.a=[]\n",
    "    def push(self,item):\n",
    "        self.a.append(item)\n",
    "    def pop(self):\n",
    "        self.a.pop()\n",
    "    def size(self):\n",
    "        return len(self.a)\n",
    "    def isempty(self):\n",
    "        return len(self.a)==0\n",
    "    def tos(self):\n",
    "        return self.a[-1]\n",
    "ans=1\n",
    "n=int(input(\"Test cases : \"))\n",
    "while(n):\n",
    "    obj=stack()\n",
    "    _str=input(\"ENTER STRING( a^n.b^n ==> \")\n",
    "    for i in _str:\n",
    "        if i=='a':\n",
    "            obj.push(i)\n",
    "        else:\n",
    "            try:\n",
    "                obj.pop()\n",
    "            except:\n",
    "                ans=0\n",
    "    if obj.size()==0 and ans==1:\n",
    "        print(\"STRING ACCEPTED..!!\")\n",
    "    else:\n",
    "        print(\"INVALID STRING!!!!!!\")\n"
   ]
  },
  {
   "cell_type": "markdown",
   "metadata": {},
   "source": [
    "PDA for accepting Language containing equal no. of 0's and 1's"
   ]
  },
  {
   "cell_type": "code",
   "execution_count": 1,
   "metadata": {},
   "outputs": [
    {
     "name": "stdout",
     "output_type": "stream",
     "text": [
      "Test cases : 3\n",
      "ENTER STRING==> 1100\n",
      "STRING ACCEPTED..!!\n",
      "\n",
      "ENTER STRING==> 10101\n",
      "INVALID STRING!!!!!!\n",
      "\n",
      "ENTER STRING==> 1010\n",
      "STRING ACCEPTED..!!\n",
      "\n"
     ]
    }
   ],
   "source": [
    "class stack:\n",
    "    def __init__(self):\n",
    "        self.a=[]\n",
    "    def push(self,item):\n",
    "        self.a.append(item)\n",
    "    def pop(self):\n",
    "        self.a.pop()\n",
    "    def size(self):\n",
    "        return len(self.a)\n",
    "    def isempty(self):\n",
    "        return len(self.a)==0\n",
    "    def tos(self):\n",
    "        return self.a[-1]\n",
    "ans=1\n",
    "n=int(input(\"Test cases : \"))\n",
    "while(n):\n",
    "    obj=stack()\n",
    "    _str=input(\"ENTER STRING==> \")\n",
    "    if _str[0]=='0':\n",
    "        for i in _str:\n",
    "            if i=='0':\n",
    "                obj.push(i)\n",
    "        for i in _str:\n",
    "            if i=='1':\n",
    "                try:\n",
    "                    obj.pop()\n",
    "                except:\n",
    "                    ans=0\n",
    "        if obj.size==0 and ans==1:\n",
    "            print(\"STRING ACCEPTED..!!\")\n",
    "        else:\n",
    "            print(\"INVALID STRING!!!!!!\")\n",
    "        print()\n",
    "\n",
    "    if _str[0]=='1':\n",
    "        for i in _str:\n",
    "            if i=='1':\n",
    "                obj.push(i)\n",
    "        for i in _str:\n",
    "            if i=='0':\n",
    "                try:\n",
    "                    obj.pop()\n",
    "                except:\n",
    "                    ans=0\n",
    "        if obj.size()==0 and ans==1:\n",
    "            print(\"STRING ACCEPTED..!!\")\n",
    "        else:\n",
    "            print(\"INVALID STRING!!!!!!\")\n",
    "        print()\n",
    "    n=n-1\n"
   ]
  },
  {
   "cell_type": "code",
   "execution_count": null,
   "metadata": {},
   "outputs": [],
   "source": []
  }
 ],
 "metadata": {
  "kernelspec": {
   "display_name": "Python 3",
   "language": "python",
   "name": "python3"
  },
  "language_info": {
   "codemirror_mode": {
    "name": "ipython",
    "version": 3
   },
   "file_extension": ".py",
   "mimetype": "text/x-python",
   "name": "python",
   "nbconvert_exporter": "python",
   "pygments_lexer": "ipython3",
   "version": "3.6.7"
  }
 },
 "nbformat": 4,
 "nbformat_minor": 2
}
